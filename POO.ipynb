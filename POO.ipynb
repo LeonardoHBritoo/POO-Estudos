{
 "cells": [
  {
   "cell_type": "code",
   "execution_count": 23,
   "metadata": {},
   "outputs": [],
   "source": [
    "#Estrutura das classes em Poo\n",
    "class MinhaClasse:\n",
    "    def __init__(self, atributo1, atributo2, atributoN) -> None:\n",
    "        self.atributo1 = atributo1\n",
    "        self.atributo2 = atributo2\n",
    "        self.atributoN = atributoN\n",
    "        self.atributoComValorInicialFixo = 0\n",
    "        self.atributo_none = None\n",
    "    def metodo_qualquer(self, parâmetros):\n",
    "        ''' \n",
    "            é assim que se cria uma docstring para descrever uma função ou método\n",
    "            \n",
    "        '''\n",
    "        #Realiza algumas operação ou função da classe\n",
    "        self.atributoN = parâmetros\n",
    "        print(f'Método chamado com sucesso e agora temos: {self.atributo1} {self.atributo2} {self.atributoN}')\n"
   ]
  },
  {
   "cell_type": "code",
   "execution_count": 24,
   "metadata": {},
   "outputs": [],
   "source": [
    "#Instaânciando classe (criando objeto)\n",
    "\n",
    "objeto_qualquer = MinhaClasse(1,2,'n') #Passando argumentos necessários para o construtor e iniciando o objeto\n"
   ]
  },
  {
   "cell_type": "code",
   "execution_count": 25,
   "metadata": {},
   "outputs": [
    {
     "data": {
      "text/plain": [
       "'n'"
      ]
     },
     "execution_count": 25,
     "metadata": {},
     "output_type": "execute_result"
    }
   ],
   "source": [
    "#Chamando atributos de um objeto criado\n",
    "objeto_qualquer.atributoN"
   ]
  },
  {
   "cell_type": "code",
   "execution_count": 26,
   "metadata": {},
   "outputs": [
    {
     "name": "stdout",
     "output_type": "stream",
     "text": [
      "Método chamado com sucesso e agora temos: 1 2 troquei valor da variavel n\n"
     ]
    },
    {
     "data": {
      "text/plain": [
       "'troquei valor da variavel n'"
      ]
     },
     "execution_count": 26,
     "metadata": {},
     "output_type": "execute_result"
    }
   ],
   "source": [
    "#Chamando método do objeto criado\n",
    "objeto_qualquer.metodo_qualquer('troquei valor da variavel n')\n",
    "objeto_qualquer.atributoN"
   ]
  },
  {
   "cell_type": "code",
   "execution_count": 27,
   "metadata": {},
   "outputs": [
    {
     "name": "stdout",
     "output_type": "stream",
     "text": [
      "5\n"
     ]
    }
   ],
   "source": [
    "#Mudar valor de atributo\n",
    "\n",
    "objeto_qualquer.atributo1 = 5\n",
    "print(objeto_qualquer.atributo1)"
   ]
  },
  {
   "cell_type": "code",
   "execution_count": 28,
   "metadata": {},
   "outputs": [
    {
     "name": "stdout",
     "output_type": "stream",
     "text": [
      "{'atributo1': 5, 'atributo2': 2, 'atributoN': 'troquei valor da variavel n', 'atributoComValorInicialFixo': 0, 'atributo_none': None}\n"
     ]
    },
    {
     "data": {
      "text/plain": [
       "{'atributo1': 5,\n",
       " 'atributo2': 2,\n",
       " 'atributoN': 'troquei valor da variavel n',\n",
       " 'atributoComValorInicialFixo': 0,\n",
       " 'atributo_none': None}"
      ]
     },
     "execution_count": 28,
     "metadata": {},
     "output_type": "execute_result"
    }
   ],
   "source": [
    "#Vendo quais atributos tem um objeto e seus valores em forma de dicionário\n",
    "print(vars(objeto_qualquer))\n",
    "# Uma forma equivalente é:\n",
    "objeto_qualquer.__dict__"
   ]
  }
 ],
 "metadata": {
  "kernelspec": {
   "display_name": "Python 3",
   "language": "python",
   "name": "python3"
  },
  "language_info": {
   "codemirror_mode": {
    "name": "ipython",
    "version": 3
   },
   "file_extension": ".py",
   "mimetype": "text/x-python",
   "name": "python",
   "nbconvert_exporter": "python",
   "pygments_lexer": "ipython3",
   "version": "3.11.6"
  }
 },
 "nbformat": 4,
 "nbformat_minor": 2
}
