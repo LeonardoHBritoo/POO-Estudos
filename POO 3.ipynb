{
 "cells": [
  {
   "cell_type": "code",
   "execution_count": 38,
   "metadata": {},
   "outputs": [],
   "source": [
    "class Animal:\n",
    "    def __init__(self, nome) -> None:\n",
    "        self.nome = nome\n",
    "\n",
    "    def fala(self):\n",
    "        print(f'{self.nome} faz barulho!')\n",
    "    \n",
    "    def andar(self):\n",
    "        print('Andando',end=' ')\n"
   ]
  },
  {
   "cell_type": "code",
   "execution_count": 39,
   "metadata": {},
   "outputs": [
    {
     "name": "stdout",
     "output_type": "stream",
     "text": [
      "Luna faz barulho!\n"
     ]
    }
   ],
   "source": [
    "primeiro_animal = Animal('Luna')\n",
    "primeiro_animal.fala()"
   ]
  },
  {
   "cell_type": "code",
   "execution_count": 40,
   "metadata": {},
   "outputs": [],
   "source": [
    "class Cachorro(Animal):\n",
    "    def __init__(self, nome, raca, cor_pelo) -> None:\n",
    "        super().__init__(nome)\n",
    "        self.raca = raca\n",
    "        self.cor_pelo = cor_pelo\n",
    "\n",
    "    def fala(self):\n",
    "        print(f'{self.nome} late!')\n",
    "\n",
    "    def andar(self):\n",
    "        super().andar()\n",
    "        print('com rabinho balançando!')\n",
    "\n",
    "\n",
    "class Gato(Animal):\n",
    "    def __init__(self, nome, cor_olhos) -> None:\n",
    "        super().__init__(nome)\n",
    "        self.cor_olhos = cor_olhos\n",
    "\n",
    "    def fala(self):\n",
    "        print(f'{self.nome} mia!')\n",
    "\n",
    "    def andar(self):\n",
    "        super().andar()\n",
    "        print('com rabinho levantado!')"
   ]
  },
  {
   "cell_type": "code",
   "execution_count": 41,
   "metadata": {},
   "outputs": [],
   "source": [
    "joana = Gato('Joana','verde')\n",
    "toby = Cachorro('Toby','Pastor','Preto')"
   ]
  },
  {
   "cell_type": "code",
   "execution_count": 43,
   "metadata": {},
   "outputs": [
    {
     "name": "stdout",
     "output_type": "stream",
     "text": [
      "Andando com rabinho balançando!\n",
      "Andando com rabinho levantado!\n"
     ]
    }
   ],
   "source": [
    "toby.andar()\n",
    "joana.andar()"
   ]
  },
  {
   "cell_type": "code",
   "execution_count": 44,
   "metadata": {},
   "outputs": [
    {
     "data": {
      "text/plain": [
       "True"
      ]
     },
     "execution_count": 44,
     "metadata": {},
     "output_type": "execute_result"
    }
   ],
   "source": [
    "isinstance(toby,Animal)"
   ]
  },
  {
   "cell_type": "code",
   "execution_count": 45,
   "metadata": {},
   "outputs": [
    {
     "data": {
      "text/plain": [
       "False"
      ]
     },
     "execution_count": 45,
     "metadata": {},
     "output_type": "execute_result"
    }
   ],
   "source": [
    "isinstance(toby,Gato)"
   ]
  }
 ],
 "metadata": {
  "kernelspec": {
   "display_name": "Python 3",
   "language": "python",
   "name": "python3"
  },
  "language_info": {
   "codemirror_mode": {
    "name": "ipython",
    "version": 3
   },
   "file_extension": ".py",
   "mimetype": "text/x-python",
   "name": "python",
   "nbconvert_exporter": "python",
   "pygments_lexer": "ipython3",
   "version": "3.11.6"
  }
 },
 "nbformat": 4,
 "nbformat_minor": 2
}
