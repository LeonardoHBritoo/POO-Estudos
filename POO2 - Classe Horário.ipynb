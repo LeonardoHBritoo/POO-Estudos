{
 "cells": [
  {
   "cell_type": "code",
   "execution_count": 1,
   "metadata": {},
   "outputs": [],
   "source": [
    "class Horario:\n",
    "    def __init__(self, hora, min, seg) -> None:\n",
    "        \n",
    "        self.h = hora\n",
    "        self.m = min\n",
    "        self.s = seg\n",
    "    def __repr__(self) -> str:\n",
    "        return f'{self.h:02d}:{self.m:02d}:{self.s:02d}'\n",
    "    \n",
    "    def __str__(self) -> str:\n",
    "        return f'O horário é: {self.h:02d}:{self.m:02d}:{self.s:02d}'\n",
    "    \n",
    "    def __add__(self, other):\n",
    "        hora_soma = self.h + other.h + (self.m + other.m)//60\n",
    "        minuto_soma = (self.m + other.m)%60 +(self.s + other.s)//60\n",
    "        segundo_soma = (self.s + other.s )%60\n",
    "        hora_soma -= 24 if hora_soma > 24 else None\n",
    "        return f'{hora_soma:02d}:{minuto_soma:02d}:{segundo_soma:02d}' \n",
    "    \n",
    "    def __gt__(self, other):\n",
    "        if self.h > other.h:\n",
    "            return True\n",
    "        elif self.m > other.m:\n",
    "            return True\n",
    "        elif self.s > other.s:\n",
    "            return True\n",
    "        else:\n",
    "            return False"
   ]
  },
  {
   "cell_type": "code",
   "execution_count": 2,
   "metadata": {},
   "outputs": [
    {
     "data": {
      "text/plain": [
       "{'h': 13, 'm': 3, 's': 50}"
      ]
     },
     "execution_count": 2,
     "metadata": {},
     "output_type": "execute_result"
    }
   ],
   "source": [
    "agora = Horario(13,3,50)\n",
    "agora.__dict__"
   ]
  },
  {
   "cell_type": "code",
   "execution_count": 3,
   "metadata": {},
   "outputs": [
    {
     "name": "stdout",
     "output_type": "stream",
     "text": [
      "O horário é: 13:03:50\n"
     ]
    },
    {
     "data": {
      "text/plain": [
       "13:03:50"
      ]
     },
     "execution_count": 3,
     "metadata": {},
     "output_type": "execute_result"
    }
   ],
   "source": [
    "print(agora)\n",
    "agora"
   ]
  },
  {
   "cell_type": "code",
   "execution_count": 4,
   "metadata": {},
   "outputs": [],
   "source": [
    "horas_adicionais = Horario(30,57,15)"
   ]
  },
  {
   "cell_type": "code",
   "execution_count": 5,
   "metadata": {},
   "outputs": [
    {
     "data": {
      "text/plain": [
       "'20:01:05'"
      ]
     },
     "execution_count": 5,
     "metadata": {},
     "output_type": "execute_result"
    }
   ],
   "source": [
    "agora+horas_adicionais"
   ]
  },
  {
   "cell_type": "code",
   "execution_count": 6,
   "metadata": {},
   "outputs": [
    {
     "data": {
      "text/plain": [
       "True"
      ]
     },
     "execution_count": 6,
     "metadata": {},
     "output_type": "execute_result"
    }
   ],
   "source": [
    "horas_adicionais > agora"
   ]
  }
 ],
 "metadata": {
  "kernelspec": {
   "display_name": "Python 3",
   "language": "python",
   "name": "python3"
  },
  "language_info": {
   "codemirror_mode": {
    "name": "ipython",
    "version": 3
   },
   "file_extension": ".py",
   "mimetype": "text/x-python",
   "name": "python",
   "nbconvert_exporter": "python",
   "pygments_lexer": "ipython3",
   "version": "3.11.6"
  }
 },
 "nbformat": 4,
 "nbformat_minor": 2
}
